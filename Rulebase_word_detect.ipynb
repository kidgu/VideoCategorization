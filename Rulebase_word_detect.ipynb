{
  "nbformat": 4,
  "nbformat_minor": 0,
  "metadata": {
    "colab": {
      "provenance": [],
      "include_colab_link": true
    },
    "kernelspec": {
      "name": "python3",
      "display_name": "Python 3"
    },
    "language_info": {
      "name": "python"
    }
  },
  "cells": [
    {
      "cell_type": "markdown",
      "metadata": {
        "id": "view-in-github",
        "colab_type": "text"
      },
      "source": [
        "<a href=\"https://colab.research.google.com/github/kidgu/VideoCategorization/blob/main/Rulebase_word_detect.ipynb\" target=\"_parent\"><img src=\"https://colab.research.google.com/assets/colab-badge.svg\" alt=\"Open In Colab\"/></a>"
      ]
    },
    {
      "cell_type": "code",
      "source": [
        "import re\n",
        "import time\n",
        "import pickle"
      ],
      "metadata": {
        "id": "mQoa0GYQwh3C"
      },
      "execution_count": null,
      "outputs": []
    },
    {
      "cell_type": "code",
      "execution_count": null,
      "metadata": {
        "id": "xii5T371WxWk"
      },
      "outputs": [],
      "source": [
        "class TrieNode:\n",
        "    \"\"\"A node in the trie structure\"\"\"\n",
        "\n",
        "    def __init__(self, char):\n",
        "        # the character stored in this node\n",
        "        self.char = char\n",
        "\n",
        "        # whether this can be the end of a word\n",
        "        self.is_end = False\n",
        "\n",
        "        # a counter indicating how many times a word is inserted\n",
        "        # (if this node's is_end is True)\n",
        "        self.counter = 0\n",
        "\n",
        "        # a dictionary of child nodes\n",
        "        # keys are characters, values are nodes\n",
        "        self.children = {}"
      ]
    },
    {
      "cell_type": "code",
      "source": [
        "class Trie(object):\n",
        "    \"\"\"The trie object\"\"\"\n",
        "\n",
        "    def __init__(self):\n",
        "        \"\"\"\n",
        "        The trie has at least the root node.\n",
        "        The root node does not store any character\n",
        "        \"\"\"\n",
        "        self.root = TrieNode(\"\")\n",
        "\n",
        "    def insert(self, word):\n",
        "        \"\"\"Insert a word into the trie\"\"\"\n",
        "        node = self.root\n",
        "\n",
        "        # Loop through each character in the word\n",
        "        # Check if there is no child containing the character, create a new child for the current node\n",
        "        for char in word:\n",
        "            if char in node.children:\n",
        "                node = node.children[char]\n",
        "            else:\n",
        "                # If a character is not found,\n",
        "                # create a new node in the trie\n",
        "                new_node = TrieNode(char)\n",
        "                node.children[char] = new_node\n",
        "                node = new_node\n",
        "\n",
        "        # Mark the end of a word\n",
        "        node.is_end = True\n",
        "\n",
        "        # Increment the counter to indicate that we see this word once more\n",
        "        node.counter += 1\n",
        "\n",
        "    def dfs(self, node, prefix):\n",
        "        \"\"\"Depth-first traversal of the trie\n",
        "\n",
        "        Args:\n",
        "            - node: the node to start with\n",
        "            - prefix: the current prefix, for tracing a\n",
        "                word while traversing the trie\n",
        "        \"\"\"\n",
        "        # self.output = []\n",
        "        if node.is_end:\n",
        "            self.output.append((prefix + node.char, node.counter))\n",
        "\n",
        "        for child in node.children.values():\n",
        "            self.dfs(child, prefix + node.char)\n",
        "\n",
        "    def query(self, x):\n",
        "        \"\"\"Given an input (a prefix), retrieve all words stored in\n",
        "        the trie with that prefix, sort the words by the number of\n",
        "        times they have been inserted\n",
        "        \"\"\"\n",
        "        # Use a variable within the class to keep all possible outputs\n",
        "        # As there can be more than one word with such prefix\n",
        "        self.output = []\n",
        "        node = self.root\n",
        "\n",
        "        # Check if the prefix is in the trie\n",
        "        for char in x:\n",
        "            if char in node.children:\n",
        "                node = node.children[char]\n",
        "            else:\n",
        "                # cannot found the prefix, return empty list\n",
        "                return []\n",
        "\n",
        "        # Traverse the trie to get all candidates\n",
        "        self.dfs(node, x[:-1])\n",
        "\n",
        "        # Sort the results in reverse order and return --> dont need to sort\n",
        "        # return sorted(self.output, key=lambda x: x[1], reverse=True)\n",
        "        return self.output\n",
        "\n",
        "    def __repr__(self):\n",
        "        def recur(node, indent):\n",
        "            return \"\".join(indent + key + (\"$\" if child.is_end else \"\")\n",
        "                                  + recur(child, indent + \" \")\n",
        "                for key, child in node.children.items())\n",
        "\n",
        "        return recur(self.root, \"\\n\")"
      ],
      "metadata": {
        "id": "kgxXIdQcXRqG"
      },
      "execution_count": null,
      "outputs": []
    },
    {
      "cell_type": "code",
      "source": [],
      "metadata": {
        "id": "hAtu0AoX-zuk"
      },
      "execution_count": null,
      "outputs": []
    },
    {
      "cell_type": "code",
      "source": [
        "# Program to read all the lines as a list in a file\n",
        "# using readlines() function\n",
        "file = open(\"/content/bad_words.txt\", \"r\", encoding=\"utf-8\")\n",
        "content=file.readlines()\n",
        "# print(content)\n",
        "file.close()"
      ],
      "metadata": {
        "id": "poJHoZgsXRs0"
      },
      "execution_count": null,
      "outputs": []
    },
    {
      "cell_type": "code",
      "source": [
        "print(type(content))\n",
        "print(len(content))"
      ],
      "metadata": {
        "colab": {
          "base_uri": "https://localhost:8080/"
        },
        "id": "FHjK1VGFXRvi",
        "outputId": "498de535-6b14-4307-e21e-83fc2e3f5289"
      },
      "execution_count": null,
      "outputs": [
        {
          "output_type": "stream",
          "name": "stdout",
          "text": [
            "<class 'list'>\n",
            "1\n"
          ]
        }
      ]
    },
    {
      "cell_type": "code",
      "source": [
        "split_words = content[0].split(\",\")\n",
        "# decode to utf-8, and strip space both side of string\n",
        "bad_words = [ word.encode().decode(\"utf-8\").strip() for word in split_words]\n",
        "print(bad_words[:5])\n",
        "print(len(bad_words))"
      ],
      "metadata": {
        "colab": {
          "base_uri": "https://localhost:8080/"
        },
        "id": "TlrjA-D6c9Dm",
        "outputId": "87280190-6387-4887-9912-85098d7df03c"
      },
      "execution_count": null,
      "outputs": [
        {
          "output_type": "stream",
          "name": "stdout",
          "text": [
            "['a cmnl', 'a mầy', 'a shit', 'a shitty', 'a sướng']\n",
            "3738\n"
          ]
        }
      ]
    },
    {
      "cell_type": "code",
      "source": [
        "import random\n",
        "group_of_items = bad_words  # a sequence or set will work here.\n",
        "num_to_select = 500                           # set the number to select here.\n",
        "list_of_random_items = random.sample(group_of_items, num_to_select)"
      ],
      "metadata": {
        "id": "GxcIqt-Fv9K1"
      },
      "execution_count": null,
      "outputs": []
    },
    {
      "cell_type": "code",
      "source": [
        "print(list_of_random_items[:5])\n",
        "bad_words = list_of_random_items"
      ],
      "metadata": {
        "colab": {
          "base_uri": "https://localhost:8080/"
        },
        "id": "3XTLMeoEwC4M",
        "outputId": "d9acc726-46bc-4e59-e05d-56664ef14542"
      },
      "execution_count": null,
      "outputs": [
        {
          "output_type": "stream",
          "name": "stdout",
          "text": [
            "['chõ miệng', 'gái dâm', 'dị hơm', 'sextop1.net', 'đéo tưởng']\n"
          ]
        }
      ]
    },
    {
      "cell_type": "code",
      "source": [
        "bad_words_trie = Trie()"
      ],
      "metadata": {
        "id": "VZnYE3HYgriu"
      },
      "execution_count": null,
      "outputs": []
    },
    {
      "cell_type": "code",
      "source": [
        "for word in bad_words:\n",
        "    bad_words_trie.insert(word)"
      ],
      "metadata": {
        "id": "JnVV4j6Jgrla"
      },
      "execution_count": null,
      "outputs": []
    },
    {
      "cell_type": "code",
      "source": [
        "# print(bad_words_trie)"
      ],
      "metadata": {
        "id": "4A1CDgwQi6bi"
      },
      "execution_count": null,
      "outputs": []
    },
    {
      "cell_type": "code",
      "source": [
        "bad_words_trie.query(\"chó\")"
      ],
      "metadata": {
        "colab": {
          "base_uri": "https://localhost:8080/"
        },
        "id": "l3900t15groF",
        "outputId": "d17bcfdb-4db4-46bf-bc79-2888ab2ea679"
      },
      "execution_count": null,
      "outputs": [
        {
          "output_type": "execute_result",
          "data": {
            "text/plain": [
              "[('chó', 1)]"
            ]
          },
          "metadata": {},
          "execution_count": 13
        }
      ]
    },
    {
      "cell_type": "code",
      "source": [
        "# https://stackoverflow.com/questions/11218477/how-can-i-use-pickle-to-save-a-dict-or-any-other-python-object/33245595#33245595\n",
        "def save_object(obj, filename):\n",
        "    with open(filename, 'wb') as outp:  # Overwrites any existing file.\n",
        "        pickle.dump(obj, outp, pickle.HIGHEST_PROTOCOL)\n",
        "\n",
        "save_object(bad_words_trie, 'bad_words_trie.pkl')"
      ],
      "metadata": {
        "id": "fY-uMc3x-4sh"
      },
      "execution_count": null,
      "outputs": []
    },
    {
      "cell_type": "code",
      "source": [
        "with open('bad_words_trie.pkl', 'rb') as inp:\n",
        "    bad_words_trie = pickle.load(inp)\n",
        "    print(bad_words_trie.query(\"chó\"))"
      ],
      "metadata": {
        "colab": {
          "base_uri": "https://localhost:8080/"
        },
        "id": "F66K5t2F_AFa",
        "outputId": "8fb6c089-658e-481e-ed29-720e9174c1df"
      },
      "execution_count": null,
      "outputs": [
        {
          "output_type": "stream",
          "name": "stdout",
          "text": [
            "[('chó', 1)]\n"
          ]
        }
      ]
    },
    {
      "cell_type": "code",
      "source": [
        "\n",
        "text = '''\n",
        "1. Nếu ai đó nói xấu sau lưng bạn Thì hãy tát vào mặt nó và nói rằng “Tao không những xấu mà còn ác nữa baby à!”2. Lưỡi dao lam, vừa mỏng vừa manh Miệng nhiều người, vừa bẩn vừa tanh.(adsbygoogle = window.adsbygoogle || []).push({});3. Đừng bao giờ chửi ai đó là CON CHÓ Bởi như thế chẳng khác nào bạn đang khen họ sống có tình có nghĩa.4. Nhiều khi tớ muốn được sống như bạn Sinh ra đã có bản tính khốn nạn trong người.5. Trước mặt thì chia sẽ, sau lưng thì chia rẽ Xin lỗi hai chữ TÌNH BẠN, bạn không xứng đáng đứng cùng tôi.6. Lưu manh giả danh trí thức Khốn nạn mà giả dạng dễ thương.7. Đừng lãng phí những ngày đẹp trời Chỉ để quan tâm những lời thiên hạ.8. Đời thì hối hả, bon chen Con người thì hồn nhiên giả tạo.9. Nếu ai đó nói xấu bạn thì hãy mặc kệ. Hãy sống sao cho người ta thấy bạn sống tốt hơn gấp vạn lần so với những gì họ nói.10. Những kẻ chỉ biết nói xấu sau lưng, đó chỉ là những kẻ chỉ có thể đứng mãi đằng sau lưng chúng ta mà thôi. Đời luôn nhìn về phía trước, chứ đâu ai muốn nhìn lại phía sau mãi.11. Nếu không tử tế thì đừng đẹp trai.12. Người ta đã cố gắng nói dối Thì mình ngại gì mà không giả vờ tin.13. Luật đời dạy em cách giả tạo Em quật lại đời bằng bản chất của riêng em.14. Tớ không phải là nai, tớ là cáo Có khi tớ còn bố láo hơn cả hồ ly.15. Nếu chỉ nhìn bề ngoài mà đoán được một người Thì trên đời này đã không còn tồn tại hai chữ KHÔNG NGỜ.16. Sống ở đời bạn phải biết cái khôn nằm đâu chứ đừng tỏ vẻ, trong não của bạn hình như không được xoắn lắm.17. Ghen ăn tức ở muôn đời nát Bởi vì nên không ngốc đầu lên nổi.18. Thà khốn nạn công khai Còn hơn giả nai thánh thiện.19. Đừng có xấu mà bày đặt hư cấu Nói nhảm mà còn không biết mặc cảm nữa.20. Khi bạn chỉ biết cách đứng đằng sau và chỉ trỏ này kia, thì có nghĩa là bạn đang thấp kém hơn người ta rất nhiều đó bạn.\n",
        "'''\n",
        "\n",
        "# lower case\n",
        "text = text.lower()\n",
        "# remove special character:\n",
        "text = re.sub(r'•|!|#|\\s|#|\\\\|\\$|%|&|\\^|\\>|\\<|\\~|\\+|\\-|\\_|\\/|\\*|\\}|\\{|\\]|\\[|\\?|\\|', ' ', text)\n",
        "# split by mulitiple delimilers\n",
        "words = re.split(';|,|\\.| ', text)\n",
        "# convert list to set to reduce duplicate words:\n",
        "set_words = set(words)\n",
        "print(set_words)"
      ],
      "metadata": {
        "colab": {
          "base_uri": "https://localhost:8080/"
        },
        "id": "x-TVPKEngrqn",
        "outputId": "59837d36-8874-420d-b648-bf5a2bc41321"
      },
      "execution_count": null,
      "outputs": [
        {
          "output_type": "stream",
          "name": "stdout",
          "text": [
            "{'', 'lần', 'để', 'cái', 'nói', 'mặc', 'push(', 'hạ', 'chẳng', 'láo', 'nên', '5', 'ly', 'dễ', 'khác', 'ngờ', 'cảm', 'trời', 'đằng', 'tanh', 'họ', 'sống', 'này', 'những', 'chửi', 'thánh', 'không', 'vờ', 'đó', 'tính', 'trong', 'chỉ', 'mình', 'của', 'riêng', 'hồn', 'xin', 'hai', 'hình', '15', 'trí', 'là', 'hả', 'thấp', 'tại', '(adsbygoogle', 'thấy', 'như', 'bản', 'thương', 'nếu', 'luật', 'nai', 'nổi', 'con', 'lưu', 'gắng', 'thiện', 'có', 'muôn', 'tâm', 'trước', 'đáng', 'quan', 'em', '8', 'hãy', 'bày', '7', 'giả', 'phí', 'cho', 'cách', 'được', 'chia', 'hư', 'cáo', 'nhiên', 'mãi', 'nát', 'tin', 'bởi', 'bao', 'bon', 'vào', 'khai', 'window', 'ra', 'một', 'tạo', 'mỏng', 'ta', 'thôi', 'lên', '13', 'còn', 'vì', 'lam', 'đẹp', 'đâu', 'đầu', 'rằng', 'tốt', 'vạn', 'nhiều', 'khen', 'dao', 'dối', 'tát', 'miệng', 'gấp', 'thể', 'tỏ', 'đã', 'lời', 'ác', 'ngày', 'trên', 'dạng', '=', 'thì', 'à', 'nhảm', '10', '4', '“tao', 'bẩn', 'thế', 'lưỡi', 'rẽ', 'đời', 'với', '”2', 'nghĩa', 'tôi', 'cả', '9', 'quật', 'bố', 'tớ', 'rất', 'thiên', 'trỏ', '1', 'ăn', 'nó', 'adsbygoogle', 'lưng', 'sẽ', 'luôn', 'tế', 'và', 'xấu', 'bằng', 'cấu', 'nào', 'lãng', 'danh', 'trai', 'kia', 'bạn', 'vừa', 'sao', 'kệ', 'lại', 'tồn', '3', 'thà', 'mà', 'hơn', 'đang', 'tức', 'baby', 'nhìn', 'ngốc', 'khi', 'thức', 'ngoài', 'đoán', 'kém', 'não', ')', 'người', '11', '14', 'ngại', 'ghen', 'hối', 'bề', 'phía', 'so', 'ở', 'hồ', 'đứng', 'gì', 'manh', 'chen', 'ai', 'chúng', '16', 'cùng', '20', 'công', 'đặt', '6', 'khôn', 'đừng', 'xoắn', 'lỗi', 'biết', '17', 'mặt', 'về', '19', 'kẻ', 'nạn', 'khốn', 'cố', '18', 'vẻ', 'chó', 'nằm', 'chứ', 'lắm', 'sinh', 'sau', 'xứng', '12', 'tình', 'chất', 'phải', 'muốn', 'giờ', 'nữa', 'tử', 'chữ', 'dạy'}\n"
          ]
        }
      ]
    },
    {
      "cell_type": "code",
      "source": [
        "\n",
        "def get_words_from_text(text):\n",
        "    # return a list of distinct words in a text\n",
        "    text = text.lower()\n",
        "    text = re.sub(\"[^0-9a-zA-ZàáãạảăắằẳẵặâấầẩẫậèéẹẻẽêềếểễệđìíĩỉịòóõọỏôốồổỗộơớờởỡợùúũụủưứừửữựỳỵỷỹýÀÁÃẠẢĂẮẰẲẴẶÂẤẦẨẪẬÈÉẸẺẼÊỀẾỂỄỆĐÌÍĨỈỊÒÓÕỌỎÔỐỒỔỖỘƠỚỜỞỠỢÙÚŨỤỦƯỨỪỬỮỰỲỴỶỸÝ@]\",        # Anything except 0..9, a..z and A..Z\n",
        "       \" \",                    # replaced with space\n",
        "        text)\n",
        "    return set(text.split())"
      ],
      "metadata": {
        "id": "39jtocHYyR7A"
      },
      "execution_count": null,
      "outputs": []
    },
    {
      "cell_type": "code",
      "source": [
        "print(len(get_words_from_text('')))"
      ],
      "metadata": {
        "colab": {
          "base_uri": "https://localhost:8080/"
        },
        "id": "ILT30XCNzidw",
        "outputId": "d118633c-d74d-4bc4-f8f5-b87a31966702"
      },
      "execution_count": null,
      "outputs": [
        {
          "output_type": "stream",
          "name": "stdout",
          "text": [
            "0\n"
          ]
        }
      ]
    },
    {
      "cell_type": "code",
      "source": [
        "start = time.time()\n",
        "\n",
        "possible_bad_words = []\n",
        "\n",
        "for word in set_words:\n",
        "    if len(word) != 0:\n",
        "        # print(word)\n",
        "        possible_bad_words.extend(bad_words_trie.query(word))\n",
        "set_posible_bad_words = set([x for (x, y) in possible_bad_words])\n",
        "# print(set_posible_bad_words)\n",
        "# print(len(set_posible_bad_words))\n",
        "for posible_bad_word in set_posible_bad_words:\n",
        "    if posible_bad_word in text:\n",
        "        print(posible_bad_word)\n",
        "\n",
        "\n",
        "end = time.time()\n",
        "print((end - start)*1000)\n",
        "\n",
        "# vì có từ \"khốn nạn\" nên xuất hiện cả \"khốn\" và \"khốn nạn\""
      ],
      "metadata": {
        "colab": {
          "base_uri": "https://localhost:8080/"
        },
        "id": "e3vh9gipgrv0",
        "outputId": "c089dfbc-40c4-4ed5-a14c-aa7f9ff09604"
      },
      "execution_count": null,
      "outputs": [
        {
          "output_type": "stream",
          "name": "stdout",
          "text": [
            "bố láo\n",
            "bày đặt\n",
            "chó\n",
            "5.589008331298828\n"
          ]
        }
      ]
    },
    {
      "cell_type": "code",
      "source": [
        "start = time.time()\n",
        "\n",
        "for word in words:\n",
        "    if len(word) != 0:\n",
        "        # print(word)\n",
        "        possible_bad_words = bad_words_trie.query(word)\n",
        "        if len(possible_bad_words) > 0:\n",
        "            for (possible_bad_word, number) in possible_bad_words:\n",
        "                if possible_bad_word in text:\n",
        "                    print(possible_bad_word)\n",
        "\n",
        "\n",
        "end = time.time()\n",
        "print((end - start)*1000)"
      ],
      "metadata": {
        "colab": {
          "base_uri": "https://localhost:8080/"
        },
        "id": "wwyGGFKr0Fsz",
        "outputId": "b06fa49a-5099-42c3-d660-0a89969def4f"
      },
      "execution_count": null,
      "outputs": [
        {
          "output_type": "stream",
          "name": "stdout",
          "text": [
            "lưỡi\n",
            "chó\n",
            "khốn\n",
            "khốn n\n",
            "khốn nạ\n",
            "khốn nạn\n",
            "lưu manh\n",
            "khốn\n",
            "khốn n\n",
            "khốn nạ\n",
            "khốn nạn\n",
            "bố láo\n",
            "láo\n",
            "khốn\n",
            "khốn n\n",
            "khốn nạ\n",
            "khốn nạn\n",
            "bày đặt\n",
            "nhảm\n",
            "12.395620346069336\n"
          ]
        }
      ]
    },
    {
      "cell_type": "code",
      "source": [
        "start = time.time()\n",
        "\n",
        "for bad_word in bad_words:\n",
        "    if bad_word in text: # cần check thêm đk từ nằm trong từ\n",
        "        print(bad_word)\n",
        "\n",
        "end = time.time()\n",
        "print((end - start)*1000)"
      ],
      "metadata": {
        "colab": {
          "base_uri": "https://localhost:8080/"
        },
        "id": "sLUoWk_tgryS",
        "outputId": "bb5cbe38-6dab-47e0-f88a-0bffc1cb0b9d"
      },
      "execution_count": null,
      "outputs": [
        {
          "output_type": "stream",
          "name": "stdout",
          "text": [
            "bày đặt\n",
            "bố láo\n",
            "chó\n",
            "khốn\n",
            "khốn n\n",
            "khốn nạ\n",
            "khốn nạn\n",
            "láo\n",
            "lưu manh\n",
            "lưỡi\n",
            "nhảm\n",
            "ti\n",
            "ẳng\n",
            "ếu\n",
            "\n",
            "15.518665313720703\n"
          ]
        }
      ]
    }
  ]
}